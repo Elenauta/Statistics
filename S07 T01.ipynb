{
 "cells": [
  {
   "cell_type": "markdown",
   "id": "1f57e249",
   "metadata": {},
   "source": [
    "### S07 T01: Tasca dades, probabilitats i estadístiques\n"
   ]
  },
  {
   "cell_type": "markdown",
   "id": "77f4c3c3",
   "metadata": {},
   "source": [
    "### Exercici 1\n",
    "Agafa un conjunt de dades de tema esportiu que t'agradi i selecciona un atribut del conjunt de dades. Calcula la moda, la mediana, la desviació estàndard i la mitjana aritmètica. "
   ]
  },
  {
   "cell_type": "code",
   "execution_count": 37,
   "id": "44be6258",
   "metadata": {},
   "outputs": [],
   "source": [
    "import numpy as np\n",
    "import pandas as pd\n",
    "import seaborn as sns"
   ]
  },
  {
   "cell_type": "code",
   "execution_count": 38,
   "id": "86145bf9",
   "metadata": {},
   "outputs": [
    {
     "data": {
      "text/html": [
       "<div>\n",
       "<style scoped>\n",
       "    .dataframe tbody tr th:only-of-type {\n",
       "        vertical-align: middle;\n",
       "    }\n",
       "\n",
       "    .dataframe tbody tr th {\n",
       "        vertical-align: top;\n",
       "    }\n",
       "\n",
       "    .dataframe thead th {\n",
       "        text-align: right;\n",
       "    }\n",
       "</style>\n",
       "<table border=\"1\" class=\"dataframe\">\n",
       "  <thead>\n",
       "    <tr style=\"text-align: right;\">\n",
       "      <th></th>\n",
       "      <th>ID</th>\n",
       "      <th>Name</th>\n",
       "      <th>Sex</th>\n",
       "      <th>Age</th>\n",
       "      <th>Height</th>\n",
       "      <th>Weight</th>\n",
       "      <th>Team</th>\n",
       "      <th>NOC</th>\n",
       "      <th>Games</th>\n",
       "      <th>Year</th>\n",
       "      <th>Season</th>\n",
       "      <th>City</th>\n",
       "      <th>Sport</th>\n",
       "      <th>Event</th>\n",
       "      <th>Medal</th>\n",
       "    </tr>\n",
       "  </thead>\n",
       "  <tbody>\n",
       "    <tr>\n",
       "      <th>0</th>\n",
       "      <td>1</td>\n",
       "      <td>A Dijiang</td>\n",
       "      <td>M</td>\n",
       "      <td>24.0</td>\n",
       "      <td>180.0</td>\n",
       "      <td>80.0</td>\n",
       "      <td>China</td>\n",
       "      <td>CHN</td>\n",
       "      <td>1992 Summer</td>\n",
       "      <td>1992</td>\n",
       "      <td>Summer</td>\n",
       "      <td>Barcelona</td>\n",
       "      <td>Basketball</td>\n",
       "      <td>Basketball Men's Basketball</td>\n",
       "      <td>NaN</td>\n",
       "    </tr>\n",
       "    <tr>\n",
       "      <th>1</th>\n",
       "      <td>2</td>\n",
       "      <td>A Lamusi</td>\n",
       "      <td>M</td>\n",
       "      <td>23.0</td>\n",
       "      <td>170.0</td>\n",
       "      <td>60.0</td>\n",
       "      <td>China</td>\n",
       "      <td>CHN</td>\n",
       "      <td>2012 Summer</td>\n",
       "      <td>2012</td>\n",
       "      <td>Summer</td>\n",
       "      <td>London</td>\n",
       "      <td>Judo</td>\n",
       "      <td>Judo Men's Extra-Lightweight</td>\n",
       "      <td>NaN</td>\n",
       "    </tr>\n",
       "    <tr>\n",
       "      <th>2</th>\n",
       "      <td>3</td>\n",
       "      <td>Gunnar Nielsen Aaby</td>\n",
       "      <td>M</td>\n",
       "      <td>24.0</td>\n",
       "      <td>NaN</td>\n",
       "      <td>NaN</td>\n",
       "      <td>Denmark</td>\n",
       "      <td>DEN</td>\n",
       "      <td>1920 Summer</td>\n",
       "      <td>1920</td>\n",
       "      <td>Summer</td>\n",
       "      <td>Antwerpen</td>\n",
       "      <td>Football</td>\n",
       "      <td>Football Men's Football</td>\n",
       "      <td>NaN</td>\n",
       "    </tr>\n",
       "  </tbody>\n",
       "</table>\n",
       "</div>"
      ],
      "text/plain": [
       "   ID                 Name Sex   Age  Height  Weight     Team  NOC  \\\n",
       "0   1            A Dijiang   M  24.0   180.0    80.0    China  CHN   \n",
       "1   2             A Lamusi   M  23.0   170.0    60.0    China  CHN   \n",
       "2   3  Gunnar Nielsen Aaby   M  24.0     NaN     NaN  Denmark  DEN   \n",
       "\n",
       "         Games  Year  Season       City       Sport  \\\n",
       "0  1992 Summer  1992  Summer  Barcelona  Basketball   \n",
       "1  2012 Summer  2012  Summer     London        Judo   \n",
       "2  1920 Summer  1920  Summer  Antwerpen    Football   \n",
       "\n",
       "                          Event Medal  \n",
       "0   Basketball Men's Basketball   NaN  \n",
       "1  Judo Men's Extra-Lightweight   NaN  \n",
       "2       Football Men's Football   NaN  "
      ]
     },
     "execution_count": 38,
     "metadata": {},
     "output_type": "execute_result"
    }
   ],
   "source": [
    "df = pd.read_csv('athlete_events.csv')\n",
    "df['Age'] = df['Age'].fillna(25.5)\n",
    "df.head(3)"
   ]
  },
  {
   "cell_type": "code",
   "execution_count": 39,
   "id": "60e435ba",
   "metadata": {},
   "outputs": [
    {
     "data": {
      "text/plain": [
       "23.0"
      ]
     },
     "execution_count": 39,
     "metadata": {},
     "output_type": "execute_result"
    }
   ],
   "source": [
    "df.Age.mode()[0]"
   ]
  },
  {
   "cell_type": "code",
   "execution_count": 40,
   "id": "846d3b44",
   "metadata": {},
   "outputs": [
    {
     "data": {
      "text/plain": [
       "25.0"
      ]
     },
     "execution_count": 40,
     "metadata": {},
     "output_type": "execute_result"
    }
   ],
   "source": [
    "df.Age.median()"
   ]
  },
  {
   "cell_type": "code",
   "execution_count": 41,
   "id": "70699c44",
   "metadata": {},
   "outputs": [
    {
     "data": {
      "text/plain": [
       "6.280866037401597"
      ]
     },
     "execution_count": 41,
     "metadata": {},
     "output_type": "execute_result"
    }
   ],
   "source": [
    "df.Age.std()"
   ]
  },
  {
   "cell_type": "code",
   "execution_count": 42,
   "id": "24f93093",
   "metadata": {},
   "outputs": [
    {
     "data": {
      "text/plain": [
       "25.554910075392083"
      ]
     },
     "execution_count": 42,
     "metadata": {},
     "output_type": "execute_result"
    }
   ],
   "source": [
    "df.Age.mean()"
   ]
  },
  {
   "cell_type": "markdown",
   "id": "e8a2278e",
   "metadata": {},
   "source": [
    "### Exercici 2\n",
    "Continuant amb les dades de tema esportiu, selecciona dos atributs i calcula'n la seva correlació. "
   ]
  },
  {
   "cell_type": "code",
   "execution_count": 43,
   "id": "67cb0a19",
   "metadata": {},
   "outputs": [
    {
     "data": {
      "text/plain": [
       "0.2117262927992885"
      ]
     },
     "execution_count": 43,
     "metadata": {},
     "output_type": "execute_result"
    }
   ],
   "source": [
    "df.Age.corr(df.Weight)"
   ]
  },
  {
   "cell_type": "markdown",
   "id": "6fdeac32",
   "metadata": {},
   "source": [
    "### Exercici 3 \n",
    "Continuant amb les dades de tema esportiu, calcula la correlació de tots els atributs entre sí i representa'ls en una matriu amb diferents colors d'intensitat.\n",
    "\n"
   ]
  },
  {
   "cell_type": "code",
   "execution_count": 44,
   "id": "d828fb80",
   "metadata": {},
   "outputs": [],
   "source": [
    "# Get dummies fos Sex and Medal and drop ID\n",
    "df = pd.get_dummies(df, columns=['Sex', 'Medal'])"
   ]
  },
  {
   "cell_type": "code",
   "execution_count": 45,
   "id": "858baa48",
   "metadata": {},
   "outputs": [
    {
     "data": {
      "text/html": [
       "<div>\n",
       "<style scoped>\n",
       "    .dataframe tbody tr th:only-of-type {\n",
       "        vertical-align: middle;\n",
       "    }\n",
       "\n",
       "    .dataframe tbody tr th {\n",
       "        vertical-align: top;\n",
       "    }\n",
       "\n",
       "    .dataframe thead th {\n",
       "        text-align: right;\n",
       "    }\n",
       "</style>\n",
       "<table border=\"1\" class=\"dataframe\">\n",
       "  <thead>\n",
       "    <tr style=\"text-align: right;\">\n",
       "      <th></th>\n",
       "      <th>Name</th>\n",
       "      <th>Age</th>\n",
       "      <th>Height</th>\n",
       "      <th>Weight</th>\n",
       "      <th>Team</th>\n",
       "      <th>NOC</th>\n",
       "      <th>Games</th>\n",
       "      <th>Year</th>\n",
       "      <th>Season</th>\n",
       "      <th>City</th>\n",
       "      <th>Sport</th>\n",
       "      <th>Event</th>\n",
       "      <th>Sex_F</th>\n",
       "      <th>Sex_M</th>\n",
       "      <th>Medal_Bronze</th>\n",
       "      <th>Medal_Gold</th>\n",
       "      <th>Medal_Silver</th>\n",
       "    </tr>\n",
       "  </thead>\n",
       "  <tbody>\n",
       "    <tr>\n",
       "      <th>0</th>\n",
       "      <td>A Dijiang</td>\n",
       "      <td>24.0</td>\n",
       "      <td>180.0</td>\n",
       "      <td>80.0</td>\n",
       "      <td>China</td>\n",
       "      <td>CHN</td>\n",
       "      <td>1992 Summer</td>\n",
       "      <td>1992</td>\n",
       "      <td>Summer</td>\n",
       "      <td>Barcelona</td>\n",
       "      <td>Basketball</td>\n",
       "      <td>Basketball Men's Basketball</td>\n",
       "      <td>0</td>\n",
       "      <td>1</td>\n",
       "      <td>0</td>\n",
       "      <td>0</td>\n",
       "      <td>0</td>\n",
       "    </tr>\n",
       "    <tr>\n",
       "      <th>1</th>\n",
       "      <td>A Lamusi</td>\n",
       "      <td>23.0</td>\n",
       "      <td>170.0</td>\n",
       "      <td>60.0</td>\n",
       "      <td>China</td>\n",
       "      <td>CHN</td>\n",
       "      <td>2012 Summer</td>\n",
       "      <td>2012</td>\n",
       "      <td>Summer</td>\n",
       "      <td>London</td>\n",
       "      <td>Judo</td>\n",
       "      <td>Judo Men's Extra-Lightweight</td>\n",
       "      <td>0</td>\n",
       "      <td>1</td>\n",
       "      <td>0</td>\n",
       "      <td>0</td>\n",
       "      <td>0</td>\n",
       "    </tr>\n",
       "    <tr>\n",
       "      <th>2</th>\n",
       "      <td>Gunnar Nielsen Aaby</td>\n",
       "      <td>24.0</td>\n",
       "      <td>NaN</td>\n",
       "      <td>NaN</td>\n",
       "      <td>Denmark</td>\n",
       "      <td>DEN</td>\n",
       "      <td>1920 Summer</td>\n",
       "      <td>1920</td>\n",
       "      <td>Summer</td>\n",
       "      <td>Antwerpen</td>\n",
       "      <td>Football</td>\n",
       "      <td>Football Men's Football</td>\n",
       "      <td>0</td>\n",
       "      <td>1</td>\n",
       "      <td>0</td>\n",
       "      <td>0</td>\n",
       "      <td>0</td>\n",
       "    </tr>\n",
       "  </tbody>\n",
       "</table>\n",
       "</div>"
      ],
      "text/plain": [
       "                  Name   Age  Height  Weight     Team  NOC        Games  Year  \\\n",
       "0            A Dijiang  24.0   180.0    80.0    China  CHN  1992 Summer  1992   \n",
       "1             A Lamusi  23.0   170.0    60.0    China  CHN  2012 Summer  2012   \n",
       "2  Gunnar Nielsen Aaby  24.0     NaN     NaN  Denmark  DEN  1920 Summer  1920   \n",
       "\n",
       "   Season       City       Sport                         Event  Sex_F  Sex_M  \\\n",
       "0  Summer  Barcelona  Basketball   Basketball Men's Basketball      0      1   \n",
       "1  Summer     London        Judo  Judo Men's Extra-Lightweight      0      1   \n",
       "2  Summer  Antwerpen    Football       Football Men's Football      0      1   \n",
       "\n",
       "   Medal_Bronze  Medal_Gold  Medal_Silver  \n",
       "0             0           0             0  \n",
       "1             0           0             0  \n",
       "2             0           0             0  "
      ]
     },
     "execution_count": 45,
     "metadata": {},
     "output_type": "execute_result"
    }
   ],
   "source": [
    "df.drop(['ID'], axis=1, inplace=True)\n",
    "df.head(3)"
   ]
  },
  {
   "cell_type": "code",
   "execution_count": 46,
   "id": "25f8d0b5",
   "metadata": {},
   "outputs": [
    {
     "data": {
      "text/html": [
       "<div>\n",
       "<style scoped>\n",
       "    .dataframe tbody tr th:only-of-type {\n",
       "        vertical-align: middle;\n",
       "    }\n",
       "\n",
       "    .dataframe tbody tr th {\n",
       "        vertical-align: top;\n",
       "    }\n",
       "\n",
       "    .dataframe thead th {\n",
       "        text-align: right;\n",
       "    }\n",
       "</style>\n",
       "<table border=\"1\" class=\"dataframe\">\n",
       "  <thead>\n",
       "    <tr style=\"text-align: right;\">\n",
       "      <th></th>\n",
       "      <th>Age</th>\n",
       "      <th>Height</th>\n",
       "      <th>Weight</th>\n",
       "      <th>Year</th>\n",
       "      <th>Sex_F</th>\n",
       "      <th>Sex_M</th>\n",
       "      <th>Medal_Bronze</th>\n",
       "      <th>Medal_Gold</th>\n",
       "      <th>Medal_Silver</th>\n",
       "    </tr>\n",
       "  </thead>\n",
       "  <tbody>\n",
       "    <tr>\n",
       "      <th>Age</th>\n",
       "      <td>1.000000</td>\n",
       "      <td>0.137953</td>\n",
       "      <td>0.211726</td>\n",
       "      <td>-0.107877</td>\n",
       "      <td>-0.177619</td>\n",
       "      <td>0.177619</td>\n",
       "      <td>0.011427</td>\n",
       "      <td>0.012390</td>\n",
       "      <td>0.015459</td>\n",
       "    </tr>\n",
       "    <tr>\n",
       "      <th>Height</th>\n",
       "      <td>0.137953</td>\n",
       "      <td>1.000000</td>\n",
       "      <td>0.796213</td>\n",
       "      <td>0.047578</td>\n",
       "      <td>-0.488424</td>\n",
       "      <td>0.488424</td>\n",
       "      <td>0.042346</td>\n",
       "      <td>0.055802</td>\n",
       "      <td>0.045339</td>\n",
       "    </tr>\n",
       "    <tr>\n",
       "      <th>Weight</th>\n",
       "      <td>0.211726</td>\n",
       "      <td>0.796213</td>\n",
       "      <td>1.000000</td>\n",
       "      <td>0.019095</td>\n",
       "      <td>-0.511433</td>\n",
       "      <td>0.511433</td>\n",
       "      <td>0.043980</td>\n",
       "      <td>0.055221</td>\n",
       "      <td>0.046001</td>\n",
       "    </tr>\n",
       "    <tr>\n",
       "      <th>Year</th>\n",
       "      <td>-0.107877</td>\n",
       "      <td>0.047578</td>\n",
       "      <td>0.019095</td>\n",
       "      <td>1.000000</td>\n",
       "      <td>0.289882</td>\n",
       "      <td>-0.289882</td>\n",
       "      <td>-0.024240</td>\n",
       "      <td>-0.040000</td>\n",
       "      <td>-0.036743</td>\n",
       "    </tr>\n",
       "    <tr>\n",
       "      <th>Sex_F</th>\n",
       "      <td>-0.177619</td>\n",
       "      <td>-0.488424</td>\n",
       "      <td>-0.511433</td>\n",
       "      <td>0.289882</td>\n",
       "      <td>1.000000</td>\n",
       "      <td>-1.000000</td>\n",
       "      <td>0.004460</td>\n",
       "      <td>0.002725</td>\n",
       "      <td>0.004998</td>\n",
       "    </tr>\n",
       "    <tr>\n",
       "      <th>Sex_M</th>\n",
       "      <td>0.177619</td>\n",
       "      <td>0.488424</td>\n",
       "      <td>0.511433</td>\n",
       "      <td>-0.289882</td>\n",
       "      <td>-1.000000</td>\n",
       "      <td>1.000000</td>\n",
       "      <td>-0.004460</td>\n",
       "      <td>-0.002725</td>\n",
       "      <td>-0.004998</td>\n",
       "    </tr>\n",
       "    <tr>\n",
       "      <th>Medal_Bronze</th>\n",
       "      <td>0.011427</td>\n",
       "      <td>0.042346</td>\n",
       "      <td>0.043980</td>\n",
       "      <td>-0.024240</td>\n",
       "      <td>0.004460</td>\n",
       "      <td>-0.004460</td>\n",
       "      <td>1.000000</td>\n",
       "      <td>-0.051724</td>\n",
       "      <td>-0.051201</td>\n",
       "    </tr>\n",
       "    <tr>\n",
       "      <th>Medal_Gold</th>\n",
       "      <td>0.012390</td>\n",
       "      <td>0.055802</td>\n",
       "      <td>0.055221</td>\n",
       "      <td>-0.040000</td>\n",
       "      <td>0.002725</td>\n",
       "      <td>-0.002725</td>\n",
       "      <td>-0.051724</td>\n",
       "      <td>1.000000</td>\n",
       "      <td>-0.051356</td>\n",
       "    </tr>\n",
       "    <tr>\n",
       "      <th>Medal_Silver</th>\n",
       "      <td>0.015459</td>\n",
       "      <td>0.045339</td>\n",
       "      <td>0.046001</td>\n",
       "      <td>-0.036743</td>\n",
       "      <td>0.004998</td>\n",
       "      <td>-0.004998</td>\n",
       "      <td>-0.051201</td>\n",
       "      <td>-0.051356</td>\n",
       "      <td>1.000000</td>\n",
       "    </tr>\n",
       "  </tbody>\n",
       "</table>\n",
       "</div>"
      ],
      "text/plain": [
       "                   Age    Height    Weight      Year     Sex_F     Sex_M  \\\n",
       "Age           1.000000  0.137953  0.211726 -0.107877 -0.177619  0.177619   \n",
       "Height        0.137953  1.000000  0.796213  0.047578 -0.488424  0.488424   \n",
       "Weight        0.211726  0.796213  1.000000  0.019095 -0.511433  0.511433   \n",
       "Year         -0.107877  0.047578  0.019095  1.000000  0.289882 -0.289882   \n",
       "Sex_F        -0.177619 -0.488424 -0.511433  0.289882  1.000000 -1.000000   \n",
       "Sex_M         0.177619  0.488424  0.511433 -0.289882 -1.000000  1.000000   \n",
       "Medal_Bronze  0.011427  0.042346  0.043980 -0.024240  0.004460 -0.004460   \n",
       "Medal_Gold    0.012390  0.055802  0.055221 -0.040000  0.002725 -0.002725   \n",
       "Medal_Silver  0.015459  0.045339  0.046001 -0.036743  0.004998 -0.004998   \n",
       "\n",
       "              Medal_Bronze  Medal_Gold  Medal_Silver  \n",
       "Age               0.011427    0.012390      0.015459  \n",
       "Height            0.042346    0.055802      0.045339  \n",
       "Weight            0.043980    0.055221      0.046001  \n",
       "Year             -0.024240   -0.040000     -0.036743  \n",
       "Sex_F             0.004460    0.002725      0.004998  \n",
       "Sex_M            -0.004460   -0.002725     -0.004998  \n",
       "Medal_Bronze      1.000000   -0.051724     -0.051201  \n",
       "Medal_Gold       -0.051724    1.000000     -0.051356  \n",
       "Medal_Silver     -0.051201   -0.051356      1.000000  "
      ]
     },
     "execution_count": 46,
     "metadata": {},
     "output_type": "execute_result"
    }
   ],
   "source": [
    "df.corr()"
   ]
  },
  {
   "cell_type": "code",
   "execution_count": 68,
   "id": "e613ea94",
   "metadata": {},
   "outputs": [
    {
     "data": {
      "image/png": "[encoded data removed]",
      "text/plain": [
       "<Figure size 432x288 with 2 Axes>"
      ]
     },
     "metadata": {
      "needs_background": "light"
     },
     "output_type": "display_data"
    }
   ],
   "source": [
    "sns.heatmap(df.corr(), annot=True, cmap='Blues', vmin=-1, vmax=1);"
   ]
  },
  {
   "cell_type": "code",
   "execution_count": 1,
   "id": "069426ab",
   "metadata": {},
   "outputs": [],
   "source": [
    "# Weight and Height are the only ones high correlated.\n",
    "# Gender and age has nothing to do with winning medals."
   ]
  },
  {
   "cell_type": "markdown",
   "id": "5b98aed6",
   "metadata": {},
   "source": [
    "### Exercici 4\n",
    "Continuant amb les dades de tema esportiu, selecciona un atribut i calcula la mitjana geomètrica i la mitjana harmònica."
   ]
  },
  {
   "cell_type": "code",
   "execution_count": 66,
   "id": "81fd6167",
   "metadata": {},
   "outputs": [],
   "source": [
    "from scipy.stats.mstats import gmean\n",
    "from scipy.stats.mstats import hmean"
   ]
  },
  {
   "cell_type": "code",
   "execution_count": 67,
   "id": "3aa62f33",
   "metadata": {},
   "outputs": [
    {
     "data": {
      "text/plain": [
       "24.89209010843314"
      ]
     },
     "execution_count": 67,
     "metadata": {},
     "output_type": "execute_result"
    }
   ],
   "source": [
    "gmean(df['Age'])"
   ]
  },
  {
   "cell_type": "code",
   "execution_count": 65,
   "id": "80dd30fb",
   "metadata": {},
   "outputs": [
    {
     "data": {
      "text/plain": [
       "24.29712541771868"
      ]
     },
     "execution_count": 65,
     "metadata": {},
     "output_type": "execute_result"
    }
   ],
   "source": [
    "hmean(df['Age'])"
   ]
  },
  {
   "cell_type": "markdown",
   "id": "7a12b18c",
   "metadata": {},
   "source": [
    "________"
   ]
  }
 ],
 "metadata": {
  "kernelspec": {
   "display_name": "Python 3",
   "language": "python",
   "name": "python3"
  },
  "language_info": {
   "codemirror_mode": {
    "name": "ipython",
    "version": 3
   },
   "file_extension": ".py",
   "mimetype": "text/x-python",
   "name": "python",
   "nbconvert_exporter": "python",
   "pygments_lexer": "ipython3",
   "version": "3.8.8"
  }
 },
 "nbformat": 4,
 "nbformat_minor": 5
}
